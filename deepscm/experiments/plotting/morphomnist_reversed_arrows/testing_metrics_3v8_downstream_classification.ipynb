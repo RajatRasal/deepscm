{
 "cells": [
  {
   "cell_type": "code",
   "execution_count": 1,
   "metadata": {},
   "outputs": [],
   "source": [
    "ROOT_PATH = '../../../../'\n",
    "MNIST_DATA_PATH = ROOT_PATH + 'assets/data/morphomnist/class_conditional_38_binarised/'\n",
    "BASE_LOG_PATH = ROOT_PATH + 'SVIExtensionExperiment/'  # '/None/'"
   ]
  },
  {
   "cell_type": "markdown",
   "metadata": {},
   "source": [
    "# Setup"
   ]
  },
  {
   "cell_type": "code",
   "execution_count": 3,
   "metadata": {},
   "outputs": [],
   "source": [
    "%matplotlib inline\n",
    "import sys\n",
    "import os\n",
    "\n",
    "sys.path.append(ROOT_PATH)\n",
    "\n",
    "os.environ['CUDA_VISIBLE_DEVICES'] = '0'\n",
    "\n",
    "import torch\n",
    "import pyro\n",
    "import numpy as np\n",
    "import matplotlib.pyplot as plt\n",
    "import seaborn as sns\n",
    "import glob\n",
    "import pandas as pd\n",
    "import inspect\n",
    "from collections import OrderedDict\n",
    "from functools import partial\n",
    "import torch\n",
    "\n",
    "import traceback\n",
    "import warnings\n",
    "warnings.filterwarnings(\"ignore\", category=UserWarning)\n",
    "\n",
    "torch.autograd.set_grad_enabled(False);"
   ]
  },
  {
   "cell_type": "code",
   "execution_count": 4,
   "metadata": {},
   "outputs": [],
   "source": [
    "from deepscm.datasets.morphomnist import MorphoMNISTLike\n",
    "\n",
    "test_data = MorphoMNISTLike(MNIST_DATA_PATH, train=False, columns=['thickness', 'intensity'])"
   ]
  },
  {
   "cell_type": "code",
   "execution_count": 5,
   "metadata": {},
   "outputs": [],
   "source": [
    "from deepscm.morphomnist import measure"
   ]
  },
  {
   "cell_type": "code",
   "execution_count": 6,
   "metadata": {},
   "outputs": [],
   "source": [
    "df = pd.read_csv(f'{MNIST_DATA_PATH}t10k-morpho.csv')"
   ]
  },
  {
   "cell_type": "code",
   "execution_count": 7,
   "metadata": {},
   "outputs": [],
   "source": [
    "from deepscm.submodules.morphomnist.morphomnist import io, morpho, perturb\n",
    "from deepscm.datasets.morphomnist import load_morphomnist_like, save_morphomnist_like\n",
    "\n",
    "train_data_path = f'{ROOT_PATH}assets/data/morphomnist/class_conditional_38_binarised/'\n",
    "train_images, train_labels, train_metrics = load_morphomnist_like(train_data_path, train=False)\n",
    "\n",
    "test_data_path = f'{ROOT_PATH}assets/data/morphomnist/class_conditional_38_binarised_i_100/'\n",
    "test_images, test_labels, test_metrics = load_morphomnist_like(test_data_path, train=False)"
   ]
  },
  {
   "cell_type": "code",
   "execution_count": null,
   "metadata": {},
   "outputs": [],
   "source": []
  },
  {
   "cell_type": "code",
   "execution_count": 8,
   "metadata": {},
   "outputs": [],
   "source": [
    "# from deepscm.datasets.morphomnist.create_synth_thickness_intensity_data import model as true_model\n",
    "from deepscm.experiments import morphomnist_reversed_arrows\n",
    "from deepscm.experiments.morphomnist_binary_labels.base_experiment import EXPERIMENT_REGISTRY, MODEL_REGISTRY"
   ]
  },
  {
   "cell_type": "code",
   "execution_count": 23,
   "metadata": {
    "scrolled": true
   },
   "outputs": [
    {
     "name": "stdout",
     "output_type": "stream",
     "text": [
      "Building MNIST data loader with 1 workers\n",
      "torch.Size([256, 1, 28, 28]) tensor(-0.4242, device='cuda:0') tensor(2.8215, device='cuda:0')\n",
      "torch.Size([256, 10])\n"
     ]
    }
   ],
   "source": [
    "from utee import selector\n",
    "from torch.autograd import Variable\n",
    "# model_raw, ds_fetcher, is_imagenet = selector.select('mnist')\n",
    "ds_val = ds_fetcher(batch_size=256, train=False, val=True)\n",
    "for idx, (data, target) in enumerate(ds_val):\n",
    "    data =  Variable(torch.FloatTensor(data)).cuda()\n",
    "    print(data.shape, data.min(), data.max())\n",
    "    output = model_raw(data)\n",
    "    print(output.shape)\n",
    "    break"
   ]
  },
  {
   "cell_type": "code",
   "execution_count": 83,
   "metadata": {},
   "outputs": [
    {
     "data": {
      "text/plain": [
       "MLP(\n",
       "  (model): Sequential(\n",
       "    (fc1): Linear(in_features=784, out_features=256, bias=True)\n",
       "    (relu1): ReLU()\n",
       "    (drop1): Dropout(p=0.2, inplace=False)\n",
       "    (fc2): Linear(in_features=256, out_features=256, bias=True)\n",
       "    (relu2): ReLU()\n",
       "    (drop2): Dropout(p=0.2, inplace=False)\n",
       "    (out): Linear(in_features=256, out_features=10, bias=True)\n",
       "  )\n",
       ")"
      ]
     },
     "execution_count": 83,
     "metadata": {},
     "output_type": "execute_result"
    }
   ],
   "source": [
    "model_raw"
   ]
  },
  {
   "cell_type": "code",
   "execution_count": 82,
   "metadata": {
    "scrolled": true
   },
   "outputs": [
    {
     "name": "stdout",
     "output_type": "stream",
     "text": [
      "[3 3 3 3 3 2 3 3 3 8 3 3 3 3 3 3 8 3 3 3]\n",
      "[3 3 3 3 3 0 3 3 3 8 3 3 3 3 3 3 8 3 3 3]\n",
      "\n",
      "acc: 0.5982862903225806\n",
      "f1: 0.3900330536486143\n",
      "[3 3 3 3 3 3 3 3 3 8 3 3 3 3 3 3 3 3 3 3]\n",
      "[3 3 3 3 3 3 3 3 3 8 3 3 3 3 3 3 3 3 3 3]\n",
      "\n",
      "acc: 0.5337701612903226\n",
      "f1: 0.33124339792612306\n",
      "[3 3 3 3 8 3 3 3 3 3 3 8 1 3 8 3 3 8 3 5]\n",
      "[3 3 3 3 8 3 3 3 3 3 3 8 0 3 8 3 3 8 3 0]\n",
      "\n",
      "acc: 0.28377016129032256\n",
      "f1: 0.1605448131763921\n"
     ]
    },
    {
     "data": {
      "image/png": "[encoded data removed]",
      "text/plain": [
       "<Figure size 1152x355.995 with 3 Axes>"
      ]
     },
     "metadata": {
      "needs_background": "light"
     },
     "output_type": "display_data"
    }
   ],
   "source": [
    "from sklearn import metrics\n",
    "import seaborn as sns\n",
    "from torchvision import transforms\n",
    "\n",
    "model_name = 'ConditionalClassReversedVISEM'\n",
    "\n",
    "labels = test_labels.copy()\n",
    "labels[test_labels == 0] = 3\n",
    "labels[test_labels == 1] = 8\n",
    "\n",
    "width = 16\n",
    "height = width / (1.618 * 2)\n",
    "fig, axes = plt.subplots(1, 3, figsize=(width, height))\n",
    "\n",
    "for i, v in enumerate([131, 133, 140]):\n",
    "    cfs_loc = f'{model_name}_version_{v}_do_l.npy'\n",
    "    cfs = np.load(cfs_loc)\n",
    "    transform = transforms.Compose([transforms.Normalize((0.1307,), (0.3081,))])\n",
    "    transformed = transform(torch.tensor(cfs))\n",
    "    out = torch.argmax(model_raw(transformed.cuda()), 1)\n",
    "    \n",
    "    _out = out.cpu().numpy()\n",
    "    print(_out[:20])\n",
    "    _out[(_out != 3) & (_out != 8)] = 0\n",
    "    print(_out[:20])\n",
    "    \n",
    "    cm = metrics.confusion_matrix(y_true=labels, y_pred=_out, labels=[3, 8, 0])\n",
    "    print()\n",
    "\n",
    "    print('acc:', metrics.accuracy_score(labels, _out))\n",
    "    print('f1:', metrics.f1_score(labels, _out, average='macro'))\n",
    "\n",
    "    ax = sns.heatmap(cm[[0, 1], :], annot=True, linewidths=.5,\n",
    "                     square=True, fmt=\"d\", cbar=False, ax=axes[i])\n",
    "    ax.set_yticklabels(['3', '8'], rotation=0)\n",
    "    ax.set_xticklabels(['3', '8', 'Other'])\n",
    "    \n",
    "    if i == 0:\n",
    "        ax.set_ylabel('Actual Interventional Label')\n",
    "        \n",
    "    if i == 1:\n",
    "        ax.set_xlabel('Predicted Label')\n",
    "        \n",
    "# plt.gca().xaxis.set_major_locator(plt.NullLocator())\n",
    "# plt.gca().yaxis.set_major_locator(plt.NullLocator())\n",
    "plt.savefig(f'downstream_classification.pdf')"
   ]
  },
  {
   "cell_type": "code",
   "execution_count": 87,
   "metadata": {
    "scrolled": true
   },
   "outputs": [
    {
     "name": "stdout",
     "output_type": "stream",
     "text": [
      "total 14780\n",
      "drwxr-xr-x 18 rrr2417 cs4       25 Jun 11 00:52 .\n",
      "drwxr-xr-x  5 rrr2417 cs4        5 Apr  3 19:18 ..\n",
      "-rw-r--r--  1 rrr2417 cs4      109 Jun  8 00:10 args.txt\n",
      "drwxr-xr-x  2 rrr2417 cs4        9 Mar  7 10:36 class_conditional_38\n",
      "drwxr-xr-x  2 rrr2417 cs4       10 Jun 10 03:29 class_conditional_38_binarised\n",
      "drwxr-xr-x  2 rrr2417 cs4        6 Jun 10 22:29 class_conditional_38_binarised_i_100\n",
      "drwxr-xr-x  2 rrr2417 cs4        6 Jun 10 22:28 class_conditional_38_binarised_i_m_75\n",
      "drwxr-xr-x  2 rrr2417 cs4        8 Mar  8 10:23 class_conditional_38_binarised_ood_small\n",
      "drwxr-xr-x  2 rrr2417 cs4        6 Jun 10 22:11 class_conditional_38_binarised_t_2\n",
      "drwxr-xr-x  2 rrr2417 cs4        6 Jun 10 22:17 class_conditional_38_binarised_t_m_1\n",
      "drwxr-xr-x  2 rrr2417 cs4        6 Jun 10 22:18 class_conditional_38_binarised_t_m_1_5\n",
      "drwxr-xr-x  2 rrr2417 cs4        6 Jun 10 22:16 class_conditional_38_binarised_t_m_2\n",
      "drwxr-xr-x  2 rrr2417 cs4       11 Jun 10 02:47 intensity_causes_thickness\n",
      "drwxr-xr-x  2 rrr2417 cs4        6 Jun 11 02:10 intensity_causes_thickness_i_100\n",
      "drwxr-xr-x  2 rrr2417 cs4        3 Jun 11 00:51 intensity_causes_thickness_i_m_100\n",
      "drwxr-xr-x  2 rrr2417 cs4        6 Jun 11 02:34 intensity_causes_thickness_i_m_75\n",
      "drwxr-xr-x  2 rrr2417 cs4        6 Jun 11 02:16 intensity_causes_thickness_t_2\n",
      "drwxr-xr-x  2 rrr2417 cs4        6 Jun 11 02:05 intensity_causes_thickness_t_m_1_5\n",
      "drwxr-xr-x  2 rrr2417 cs4        3 Jun 11 00:48 intensity_causes_thickness_t_m_2\n",
      "-rw-r--r--  1 rrr2417 cs4  1894479 Jan 29 21:57 t10k-images-idx3-ubyte.gz\n",
      "-rw-r--r--  1 rrr2417 cs4     4540 Apr  6 20:33 t10k-labels-idx1-ubyte.gz\n",
      "-rw-r--r--  1 rrr2417 cs4   244510 Jan 29 21:57 t10k-morpho.csv\n",
      "-rw-r--r--  1 rrr2417 cs4 11424507 Jan 29 21:57 train-images-idx3-ubyte.gz\n",
      "-rw-r--r--  1 rrr2417 cs4    28902 Jan 29 21:57 train-labels-idx1-ubyte.gz\n",
      "-rw-r--r--  1 rrr2417 cs4  1522476 Jan 29 21:57 train-morpho.csv\n"
     ]
    }
   ],
   "source": [
    "%%bash\n",
    "ls -la ../../../../assets/data/morphomnist/class_conditional_38_binarised_i_100"
   ]
  },
  {
   "cell_type": "code",
   "execution_count": 89,
   "metadata": {},
   "outputs": [],
   "source": [
    "import matplotlib as mpl\n",
    "mpl.rcParams['figure.dpi'] = 300\n",
    "\n",
    "from matplotlib import cm\n",
    "cmaps = [cm.Reds, cm.Blues, cm.Greens]\n",
    "img_cm = 'Greys_r'"
   ]
  },
  {
   "cell_type": "code",
   "execution_count": 93,
   "metadata": {},
   "outputs": [
    {
     "data": {
      "image/png": "[encoded data removed]",
      "text/plain": [
       "<Figure size 2400x960 with 10 Axes>"
      ]
     },
     "metadata": {},
     "output_type": "display_data"
    }
   ],
   "source": [
    "idx = 0\n",
    "\n",
    "x = ['', '_i_100', '_i_m_75', '_t_2', '_t_m_1_5']\n",
    "\n",
    "num_cols = 5\n",
    "num_rows = 2\n",
    "\n",
    "num = num_cols * num_rows\n",
    "\n",
    "samples = []\n",
    "for i in x:\n",
    "    test_data_path = f'{ROOT_PATH}assets/data/morphomnist/class_conditional_38_binarised{i}/'\n",
    "    test_data = MorphoMNISTLike(test_data_path, train=False, columns=['thickness', 'intensity'])\n",
    "    samples.append(test_data[5])\n",
    "for i in x:\n",
    "    test_data_path = f'{ROOT_PATH}assets/data/morphomnist/class_conditional_38_binarised{i}/'\n",
    "    test_data = MorphoMNISTLike(test_data_path, train=False, columns=['thickness', 'intensity'])\n",
    "    samples.append(test_data[8])\n",
    "    \n",
    "samples = {\n",
    "    'x': [x['image'] for x in samples],\n",
    "    'thickness': [x['thickness'] for x in samples],\n",
    "    'intensity': [x['intensity'] for x in samples],\n",
    "}\n",
    "\n",
    "save_name = 'synth_mnist_samples'\n",
    "\n",
    "fig = plt.figure(figsize=(num_cols * 1.6, num_rows * 1.6))\n",
    "gs = fig.add_gridspec(num_rows, num_cols, wspace=.2, hspace=.2)\n",
    "\n",
    "for i in range(num):\n",
    "    x = samples['x'][i]\n",
    "\n",
    "    ax = fig.add_subplot(gs[i // num_cols, i % num_cols])\n",
    "    ax.imshow(x.numpy().squeeze(), img_cm, vmin=0, vmax=255)\n",
    "    thickness = samples['thickness'][i].item()\n",
    "    intensity = samples['intensity'][i].item()\n",
    "    ax.set_title(f'$t={thickness:.1f}; i={intensity:.0f}$', fontsize=10)\n",
    "    ax.axis('off')\n",
    "    ax.xaxis.set_major_locator(plt.NullLocator())\n",
    "    ax.yaxis.set_major_locator(plt.NullLocator())\n",
    "\n",
    "plt.gca().xaxis.set_major_locator(plt.NullLocator())\n",
    "plt.gca().yaxis.set_major_locator(plt.NullLocator())\n",
    "\n",
    "plt.savefig(f\"figures/morphomnist.pdf\", bbox_inches='tight', pad_inches=0)\n",
    "\n",
    "plt.show()"
   ]
  },
  {
   "cell_type": "code",
   "execution_count": null,
   "metadata": {},
   "outputs": [],
   "source": []
  }
 ],
 "metadata": {
  "kernelspec": {
   "display_name": "Python 3",
   "language": "python",
   "name": "python3"
  },
  "language_info": {
   "codemirror_mode": {
    "name": "ipython",
    "version": 3
   },
   "file_extension": ".py",
   "mimetype": "text/x-python",
   "name": "python",
   "nbconvert_exporter": "python",
   "pygments_lexer": "ipython3",
   "version": "3.8.5"
  }
 },
 "nbformat": 4,
 "nbformat_minor": 2
}
