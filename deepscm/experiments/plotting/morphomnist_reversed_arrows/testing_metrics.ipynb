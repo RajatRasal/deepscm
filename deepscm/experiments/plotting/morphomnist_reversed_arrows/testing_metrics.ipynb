{
 "cells": [
  {
   "cell_type": "code",
   "execution_count": 3,
   "metadata": {},
   "outputs": [],
   "source": [
    "ROOT_PATH = '../../../../'\n",
    "MNIST_DATA_PATH = ROOT_PATH + 'assets/data/morphomnist/intensity_causes_thickness/'\n",
    "BASE_LOG_PATH = ROOT_PATH + 'SVIExperimentReversedArrowsFinal/None/'"
   ]
  },
  {
   "cell_type": "markdown",
   "metadata": {},
   "source": [
    "# Setup"
   ]
  },
  {
   "cell_type": "code",
   "execution_count": 4,
   "metadata": {},
   "outputs": [],
   "source": [
    "%matplotlib inline\n",
    "import sys\n",
    "import os\n",
    "\n",
    "sys.path.append(ROOT_PATH)\n",
    "\n",
    "os.environ['CUDA_VISIBLE_DEVICES'] = '0'\n",
    "\n",
    "import torch\n",
    "import pyro\n",
    "import numpy as np\n",
    "import matplotlib.pyplot as plt\n",
    "import seaborn as sns\n",
    "import glob\n",
    "import pandas as pd\n",
    "import inspect\n",
    "from collections import OrderedDict\n",
    "from functools import partial\n",
    "import torch\n",
    "\n",
    "import traceback\n",
    "import warnings\n",
    "warnings.filterwarnings(\"ignore\", category=UserWarning)\n",
    "\n",
    "torch.autograd.set_grad_enabled(False);"
   ]
  },
  {
   "cell_type": "code",
   "execution_count": 5,
   "metadata": {},
   "outputs": [],
   "source": [
    "from deepscm.datasets.morphomnist import MorphoMNISTLike\n",
    "\n",
    "test_data = MorphoMNISTLike(MNIST_DATA_PATH, train=False, columns=['thickness', 'intensity'])"
   ]
  },
  {
   "cell_type": "code",
   "execution_count": 6,
   "metadata": {},
   "outputs": [],
   "source": [
    "from deepscm.datasets.morphomnist.create_synth_thickness_intensity_data import model as true_model\n",
    "from deepscm.experiments import morphomnist_reversed_arrows\n",
    "from deepscm.experiments.morphomnist_reversed_arrows.base_experiment import EXPERIMENT_REGISTRY, MODEL_REGISTRY"
   ]
  },
  {
   "cell_type": "code",
   "execution_count": 7,
   "metadata": {},
   "outputs": [],
   "source": [
    "def prep_data(batch):\n",
    "    x = batch['image']\n",
    "    thickness = batch['thickness'].unsqueeze(0).float()\n",
    "    intensity = batch['intensity'].unsqueeze(0).float()\n",
    "\n",
    "    x = x.float()\n",
    "\n",
    "    x = x.unsqueeze(0).unsqueeze(0)\n",
    "\n",
    "    return {'x': x, 'thickness': thickness, 'intensity': intensity}"
   ]
  },
  {
   "cell_type": "code",
   "execution_count": 8,
   "metadata": {},
   "outputs": [],
   "source": [
    "from deepscm.morphomnist import measure\n",
    "import multiprocessing\n",
    "\n",
    "def measure_image(x, threshold=0.5, use_progress_bar=True):\n",
    "    imgs = x.detach().cpu().numpy()[:, 0]\n",
    "\n",
    "    with multiprocessing.Pool() as pool:\n",
    "        measurements = measure.measure_batch(imgs, threshold=threshold, pool=pool)\n",
    "\n",
    "    def get_intensity(imgs, threshold):\n",
    "\n",
    "        img_min, img_max = imgs.min(axis=(1, 2), keepdims=True), imgs.max(axis=(1, 2), keepdims=True)\n",
    "        mask = (imgs >= img_min + (img_max - img_min) * threshold)\n",
    "\n",
    "        return np.array([np.median(i[m]) for i, m in zip(imgs, mask)])\n",
    "\n",
    "    return measurements['thickness'].values, get_intensity(imgs, threshold)"
   ]
  },
  {
   "cell_type": "code",
   "execution_count": 9,
   "metadata": {},
   "outputs": [],
   "source": [
    "from deepscm.submodules.morphomnist.morphomnist import io, morpho, perturb\n",
    "\n",
    "images = io.load_idx(f'{MNIST_DATA_PATH}t10k-images-idx3-ubyte.gz')"
   ]
  },
  {
   "cell_type": "code",
   "execution_count": 17,
   "metadata": {},
   "outputs": [],
   "source": [
    "# images = io.load_idx(f'{MNIST_DATA_PATH}t10k-images-idx3-ubyte.gz')\n",
    "\n",
    "# thickened_images = np.empty_like(images)\n",
    "# thinned_images = np.empty_like(images)\n",
    "\n",
    "# for n in range(len(images)):\n",
    "#     if n % 1000 == 0:\n",
    "#         print(n)\n",
    "#     morphology = morpho.ImageMorphology(images[n])\n",
    "#     thick_img = morphology.downscale(perturb.Thickening(amount=1)(morphology))\n",
    "#     thin_img = morphology.downscale(perturb.Thinning(amount=0.5)(morphology))\n",
    "#     thinned_images[n] = thin_img\n",
    "#     thickened_images[n] = thick_img\n",
    "\n",
    "# io.save_idx(thickened_images, f'{MNIST_DATA_PATH}t10k-images-idx3-ubyte-thick.gz')\n",
    "# io.load_idx(thinned_images, f'{MNIST_DATA_PATH}t10k-images-idx3-ubyte-thin.gz')\n",
    "thickened_images = io.load_idx(f'{MNIST_DATA_PATH}t10k-images-idx3-ubyte-thick.gz')\n",
    "thinned_images = io.load_idx(f'{MNIST_DATA_PATH}t10k-images-idx3-ubyte-thin.gz')"
   ]
  },
  {
   "cell_type": "markdown",
   "metadata": {},
   "source": [
    "# Metrics"
   ]
  },
  {
   "cell_type": "code",
   "execution_count": 49,
   "metadata": {},
   "outputs": [],
   "source": [
    "experiments = ['IndependentReversedVISEM', 'ConditionalDecoderReversedVISEM', 'ConditionalReversedVISEM']\n",
    "versions = [9, 6, 9]"
   ]
  },
  {
   "cell_type": "markdown",
   "metadata": {},
   "source": [
    "# Load Models"
   ]
  },
  {
   "cell_type": "code",
   "execution_count": 50,
   "metadata": {},
   "outputs": [],
   "source": [
    "models = {'true': true_model,}\n",
    "\n",
    "loaded_models = {}\n",
    "\n",
    "for v, exp in zip(versions, experiments):\n",
    "    try:\n",
    "        checkpoint_path = f'{BASE_LOG_PATH}/{exp}/version_{v}/'\n",
    "\n",
    "        base_path = os.path.join(checkpoint_path, 'checkpoints')\n",
    "        checkpoint_path = os.path.join(base_path, os.listdir(base_path)[0])\n",
    "\n",
    "        ckpt = torch.load(checkpoint_path, map_location=torch.device('cuda'))\n",
    "        hparams = ckpt['hyper_parameters']\n",
    "        \n",
    "        model_class = MODEL_REGISTRY[hparams['model']]\n",
    "\n",
    "        model_params = {\n",
    "            k: v for k, v in hparams.items() if (\n",
    "                k in inspect.signature(model_class.__init__).parameters\n",
    "                or k in k in inspect.signature(model_class.__bases__[0].__init__).parameters\n",
    "                or k in k in inspect.signature(model_class.__bases__[0].__bases__[0].__init__).parameters\n",
    "            )\n",
    "        }\n",
    "        \n",
    "        new_state_dict = OrderedDict()\n",
    "\n",
    "        for key, value in ckpt['state_dict'].items():\n",
    "            new_key = key.replace('pyro_model.', '')\n",
    "            new_state_dict[new_key] = value\n",
    "            \n",
    "        loaded_model = model_class(**model_params)\n",
    "        loaded_model.load_state_dict(new_state_dict)\n",
    "        \n",
    "        for p in loaded_model._buffers.keys():\n",
    "            if 'norm' in p:\n",
    "                setattr(loaded_model, p, getattr(loaded_model, p))\n",
    "                \n",
    "        loaded_model.eval()\n",
    "                \n",
    "                \n",
    "        loaded_models[exp] = loaded_model\n",
    "        \n",
    "        def sample_pgm(num_samples, model):\n",
    "            with pyro.plate('observations', num_samples):\n",
    "                return model.pgm_model()\n",
    "        \n",
    "        models[exp] = partial(sample_pgm, model=loaded_model)\n",
    "    except Exception as e:\n",
    "        print(e)\n",
    "        traceback.print_exc()"
   ]
  },
  {
   "cell_type": "code",
   "execution_count": 13,
   "metadata": {},
   "outputs": [],
   "source": [
    "def prep_data(batch):\n",
    "    x = batch['image']\n",
    "    thickness = batch['thickness'].unsqueeze(-1).float()\n",
    "    intensity = batch['intensity'].unsqueeze(-1).float()\n",
    "\n",
    "    x = x.float()\n",
    "\n",
    "    x = x.unsqueeze(1)\n",
    "\n",
    "    return {'x': x, 'thickness': thickness, 'intensity': intensity}"
   ]
  },
  {
   "cell_type": "code",
   "execution_count": 14,
   "metadata": {},
   "outputs": [],
   "source": [
    "def get_counterfactuals_conds(x, intensity, thickness):\n",
    "    _int_lower = intensity - 75\n",
    "    _int_lower[_int_lower < 0] = 0\n",
    "    # _thick_lower = thickness - 2\n",
    "    # _thick_lower[_thick_lower < 0] = 0\n",
    "    return {\n",
    "        'do(i + 75)': {'intensity': intensity + 75},\n",
    "        'do(i - 75)': {'intensity': _int_lower},\n",
    "        'do(t + 2)': {'thickness': thickness * 2},\n",
    "        'do(t - 2)': {'thickness': thickness / 2},\n",
    "    }"
   ]
  },
  {
   "cell_type": "code",
   "execution_count": 24,
   "metadata": {
    "scrolled": false
   },
   "outputs": [
    {
     "name": "stdout",
     "output_type": "stream",
     "text": [
      "0\n",
      "torch.Size([5, 1, 28, 28])\n"
     ]
    },
    {
     "name": "stderr",
     "output_type": "stream",
     "text": [
      "  0%|          | 0/20 [00:00<?, ?img/s]/vol/bitbucket/rrr2417/deepscm/ENV2/lib/python3.8/site-packages/numpy/core/_methods.py:188: RuntimeWarning: invalid value encountered in double_scalars\n",
      "  ret = ret.dtype.type(ret / rcount)\n",
      "100%|##########| 20/20 [00:02<00:00,  7.47img/s]\n"
     ]
    },
    {
     "name": "stdout",
     "output_type": "stream",
     "text": [
      "tensor(47.7741) tensor(43.8682) tensor(21.8429, dtype=torch.float64) tensor(5.4607, dtype=torch.float64) nan nan\n"
     ]
    }
   ],
   "source": [
    "from collections import defaultdict\n",
    "\n",
    "batch_size = 5\n",
    "data_len = 6 # len(test_data)\n",
    "batches = data_len // batch_size\n",
    "model_name = 'ConditionalReversedVISEM'\n",
    "\n",
    "cfs = defaultdict(float)\n",
    "\n",
    "for i in range(batches + 1):\n",
    "    print(i)\n",
    "    \n",
    "    lb = i * batch_size\n",
    "    if i == batches:\n",
    "        ub = data_len # len(test_data)\n",
    "    else:\n",
    "        ub = i * batch_size + batch_size\n",
    "    batch = prep_data(test_data[lb:ub])\n",
    "    print(batch['x'].shape)\n",
    "    \n",
    "    cf_conds = get_counterfactuals_conds(batch['x'], batch['intensity'], batch['thickness'])\n",
    "    \n",
    "    recons = loaded_models[model_name].reconstruct(**batch, num_particles=hparams['num_sample_particles'])\n",
    "    cfs['mae'] += np.abs((recons - batch['x'])).reshape(ub - lb, -1).mean(axis=1).sum()\n",
    "    \n",
    "    cfs_intensity_1 = loaded_models[model_name].counterfactual(\n",
    "        obs=batch, condition=cf_conds['do(i + 75)'], num_particles=hparams['num_sample_particles'])\n",
    "    cfs_intensity_2 = loaded_models[model_name].counterfactual(\n",
    "        obs=batch, condition=cf_conds['do(i - 75)'], num_particles=hparams['num_sample_particles'])\n",
    "    cfs_thickness_1 = loaded_models[model_name].counterfactual(\n",
    "        obs=batch, condition=cf_conds['do(t + 2)'], num_particles=hparams['num_sample_particles'])\n",
    "    cfs_thickness_2 = loaded_models[model_name].counterfactual(\n",
    "        obs=batch, condition=cf_conds['do(t - 2)'], num_particles=hparams['num_sample_particles'])\n",
    "    \n",
    "    cfs_comb = np.vstack([\n",
    "        cfs_intensity_1['x'],\n",
    "        cfs_intensity_2['x'],\n",
    "        cfs_thickness_1['x'],\n",
    "        cfs_thickness_2['x']\n",
    "    ])\n",
    "    \n",
    "    preds = measure_image(torch.tensor(cfs_comb))\n",
    "    \n",
    "    thickness_pred = preds[0].reshape(-1, ub - lb)\n",
    "    intensity_pred = preds[1].reshape(-1, ub - lb)\n",
    "    \n",
    "    int_mae_1 = np.abs(cf_conds['do(i + 75)']['intensity'].flatten() - np.nan_to_num(intensity_pred[0])).sum()\n",
    "    int_mae_2 = np.abs(cf_conds['do(i - 75)']['intensity'].flatten() - np.nan_to_num(intensity_pred[1])).sum()\n",
    "    thick_mae_1_measure = np.abs(cf_conds['do(t + 2)']['thickness'].flatten() - np.nan_to_num(thickness_pred[2])).sum()\n",
    "    thick_mae_2_measure = np.abs(cf_conds['do(t - 2)']['thickness'].flatten() - np.nan_to_num(thickness_pred[3])).sum()\n",
    "    \n",
    "    cfs['do(i + 75)'] += int_mae_1\n",
    "    cfs['do(i - 75)'] += int_mae_2\n",
    "    cfs['do(t + 2)_measure'] += thick_mae_1_measure\n",
    "    cfs['do(t - 2)_measure'] += thick_mae_2_measure\n",
    "    \n",
    "    t_1 = cfs_thickness_1['x'].squeeze(1).numpy()\n",
    "    t_2 = cfs_thickness_2['x'].squeeze(1).numpy()\n",
    "    thick_mae_1 = (thickened_images[lb:ub] - t_1).reshape(ub - lb, -1).sum() / 255\n",
    "    thick_mae_2 = (thinned_images[lb:ub] - t_2).reshape(ub - lb, -1).sum() / 255\n",
    "    cfs['do(t + 2)'] += thick_mae_1\n",
    "    cfs['do(t - 2)'] += thick_mae_2\n",
    "    \n",
    "    print(int_mae_1, int_mae_2, thick_mae_1_measure, thick_mae_2_measure, thick_mae_1, thick_mae_2)\n",
    "    break\n",
    "\n",
    "for k in cfs.keys():\n",
    "    cfs[k] /= data_len"
   ]
  },
  {
   "cell_type": "code",
   "execution_count": null,
   "metadata": {},
   "outputs": [],
   "source": [
    "plt.imshow(thickened_images[n])"
   ]
  },
  {
   "cell_type": "code",
   "execution_count": 302,
   "metadata": {},
   "outputs": [
    {
     "data": {
      "text/plain": [
       "<matplotlib.image.AxesImage at 0x7faddb590490>"
      ]
     },
     "execution_count": 302,
     "metadata": {},
     "output_type": "execute_result"
    },
    {
     "data": {
      "image/png": "[encoded data removed]",
      "text/plain": [
       "<Figure size 432x288 with 1 Axes>"
      ]
     },
     "metadata": {
      "needs_background": "light"
     },
     "output_type": "display_data"
    }
   ],
   "source": [
    "plt.imshow(thickened_images[n])"
   ]
  },
  {
   "cell_type": "code",
   "execution_count": 303,
   "metadata": {},
   "outputs": [
    {
     "data": {
      "text/plain": [
       "<matplotlib.image.AxesImage at 0x7faddd922bb0>"
      ]
     },
     "execution_count": 303,
     "metadata": {},
     "output_type": "execute_result"
    },
    {
     "data": {
      "image/png": "[encoded data removed]",
      "text/plain": [
       "<Figure size 432x288 with 1 Axes>"
      ]
     },
     "metadata": {
      "needs_background": "light"
     },
     "output_type": "display_data"
    }
   ],
   "source": [
    "plt.imshow(images[n])"
   ]
  },
  {
   "cell_type": "code",
   "execution_count": 304,
   "metadata": {},
   "outputs": [
    {
     "data": {
      "text/plain": [
       "<matplotlib.image.AxesImage at 0x7faddd8e3b50>"
      ]
     },
     "execution_count": 304,
     "metadata": {},
     "output_type": "execute_result"
    },
    {
     "data": {
      "image/png": "[encoded data removed]",
      "text/plain": [
       "<Figure size 432x288 with 1 Axes>"
      ]
     },
     "metadata": {
      "needs_background": "light"
     },
     "output_type": "display_data"
    }
   ],
   "source": [
    "plt.imshow(thinned_images[n])"
   ]
  },
  {
   "cell_type": "code",
   "execution_count": 252,
   "metadata": {},
   "outputs": [
    {
     "data": {
      "text/plain": [
       "defaultdict(float,\n",
       "            {'mae': tensor(4.4578),\n",
       "             'do(i + 75)': tensor(75.4604),\n",
       "             'do(i - 75)': tensor(74.5287),\n",
       "             'do(t + 2)': tensor(2.3822, dtype=torch.float64),\n",
       "             'do(t - 2)': tensor(1.3453, dtype=torch.float64)})"
      ]
     },
     "execution_count": 252,
     "metadata": {},
     "output_type": "execute_result"
    }
   ],
   "source": [
    "cfs"
   ]
  },
  {
   "cell_type": "code",
   "execution_count": 65,
   "metadata": {
    "scrolled": false
   },
   "outputs": [
    {
     "name": "stdout",
     "output_type": "stream",
     "text": [
      "recon\n",
      "IndependentReversedVISEM 9\n",
      "tensor(4.5369)\n",
      "ConditionalDecoderReversedVISEM 6\n",
      "tensor(4.3811)\n",
      "ConditionalReversedVISEM 9\n",
      "tensor(4.4236)\n",
      "\n",
      "do(i + 75)\n",
      "IndependentReversedVISEM 9\n",
      "tensor(29.1952)\n",
      "ConditionalDecoderReversedVISEM 6\n",
      "tensor(22.4278)\n",
      "ConditionalReversedVISEM 9\n",
      "tensor(14.1705)\n",
      "\n",
      "do(i - 75)\n",
      "IndependentReversedVISEM 9\n",
      "tensor(14.7932)\n",
      "ConditionalDecoderReversedVISEM 6\n",
      "tensor(7.7850)\n",
      "ConditionalReversedVISEM 9\n",
      "tensor(6.3301)\n",
      "\n",
      "do(t + 2)\n",
      "IndependentReversedVISEM 9\n",
      "tensor(15.7672)\n",
      "ConditionalDecoderReversedVISEM 6\n",
      "tensor(10.7237)\n",
      "ConditionalReversedVISEM 9\n",
      "tensor(12.1844)\n",
      "\n",
      "do(t - 2)\n",
      "IndependentReversedVISEM 9\n",
      "tensor(13.0702)\n",
      "ConditionalDecoderReversedVISEM 6\n",
      "tensor(7.1295)\n",
      "ConditionalReversedVISEM 9\n",
      "tensor(7.1880)\n",
      "\n"
     ]
    }
   ],
   "source": [
    "conds = ['recon', 'do(i + 75)', 'do(i - 75)', 'do(t + 2)', 'do(t - 2)']\n",
    "test_sets = ['', '_i_100', '_i_m_75', '_t_2', '_t_m_1_5']\n",
    "\n",
    "from deepscm.datasets.morphomnist import load_morphomnist_like, save_morphomnist_like\n",
    "\n",
    "\n",
    "for cond, test_set in zip(conds, test_sets):\n",
    "    print(cond)\n",
    "    for (name, _), version in zip(loaded_models.items(), versions):\n",
    "        print(name, version) # , model)\n",
    "        if cond == 'recon':\n",
    "            preds = f'{ROOT_PATH}{name}_version_{version}_recon.npy'\n",
    "            preds = np.load(preds)\n",
    "        else:\n",
    "            preds = np.load(f'{ROOT_PATH}/{name}_main_version_{version}_{cond}.npy')\n",
    "        test_data_path = f'{ROOT_PATH}assets/data/morphomnist/intensity_causes_thickness{test_set}/'\n",
    "#         print(test_data_path)\n",
    "        true, _, _ = load_morphomnist_like(test_data_path, train=False)\n",
    "        preds = np.squeeze(preds, 1).reshape(10000, -1)\n",
    "        preds[np.isnan(preds)] = 0\n",
    "        loss = torch.nn.functional.l1_loss(\n",
    "            torch.tensor(preds),\n",
    "            torch.tensor(true.reshape(10000, -1))\n",
    "        )\n",
    "        print(loss)\n",
    "    print()"
   ]
  },
  {
   "cell_type": "code",
   "execution_count": 57,
   "metadata": {},
   "outputs": [
    {
     "name": "stdout",
     "output_type": "stream",
     "text": [
      "total 2409\n",
      "drwxr-xr-x  2 rrr2417 cs4       6 Jun 11 02:16 .\n",
      "drwxr-xr-x 18 rrr2417 cs4      25 Jun 11 00:52 ..\n",
      "-rw-r--r--  1 rrr2417 cs4     231 Jun 11 00:46 args.txt\n",
      "-rw-r--r--  1 rrr2417 cs4 2143742 Jun 11 02:16 t10k-images-idx3-ubyte.gz\n",
      "-rw-r--r--  1 rrr2417 cs4    5131 Jun 11 02:16 t10k-labels-idx1-ubyte.gz\n",
      "-rw-r--r--  1 rrr2417 cs4  265754 Jun 11 02:16 t10k-morpho.csv\n"
     ]
    }
   ],
   "source": [
    "%%bash\n",
    "ls -la ../../../../assets/data/morphomnist/intensity_causes_thickness_t_2"
   ]
  },
  {
   "cell_type": "code",
   "execution_count": null,
   "metadata": {},
   "outputs": [],
   "source": []
  }
 ],
 "metadata": {
  "kernelspec": {
   "display_name": "Python 3",
   "language": "python",
   "name": "python3"
  },
  "language_info": {
   "codemirror_mode": {
    "name": "ipython",
    "version": 3
   },
   "file_extension": ".py",
   "mimetype": "text/x-python",
   "name": "python",
   "nbconvert_exporter": "python",
   "pygments_lexer": "ipython3",
   "version": "3.8.5"
  }
 },
 "nbformat": 4,
 "nbformat_minor": 2
}
